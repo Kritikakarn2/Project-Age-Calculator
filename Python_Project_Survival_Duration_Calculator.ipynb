{
  "nbformat": 4,
  "nbformat_minor": 0,
  "metadata": {
    "colab": {
      "provenance": [],
      "authorship_tag": "ABX9TyM4ho7VmMhGEXQIbnqcn5US",
      "include_colab_link": true
    },
    "kernelspec": {
      "name": "python3",
      "display_name": "Python 3"
    },
    "language_info": {
      "name": "python"
    }
  },
  "cells": [
    {
      "cell_type": "markdown",
      "metadata": {
        "id": "view-in-github",
        "colab_type": "text"
      },
      "source": [
        "<a href=\"https://colab.research.google.com/github/Kritikakarn2/Project-Age-Calculator/blob/main/Python_Project_Survival_Duration_Calculator.ipynb\" target=\"_parent\"><img src=\"https://colab.research.google.com/assets/colab-badge.svg\" alt=\"Open In Colab\"/></a>"
      ]
    },
    {
      "cell_type": "code",
      "execution_count": 1,
      "metadata": {
        "colab": {
          "base_uri": "https://localhost:8080/"
        },
        "id": "YoJczTyqoEnC",
        "outputId": "3e02c1a2-ed87-4426-a424-742a81d4aea2"
      },
      "outputs": [
        {
          "output_type": "stream",
          "name": "stdout",
          "text": [
            "Enter the current date of birth (yyyy-mm-dd): 2024-06-25\n",
            "Enter the date of birth (yyyy-mm-dd): 1996-08-24\n",
            "Duration of life in Months: 334.01\n",
            "Duration of life in Weeks: 1452.48\n",
            "Duration of life in Days: 10167.38\n",
            "Duration of life in Hours: 244017.04\n",
            "Duration of life in Minutes: 14641022.23\n",
            "Duration of life in Seconds: 878461333.99\n"
          ]
        }
      ],
      "source": [
        "from datetime import datetime\n",
        "\n",
        "# User input for date of birth (in yyyy-mm-dd format)\n",
        "dob_input = input(\"Enter the current date of birth (yyyy-mm-dd): \")\n",
        "dob = datetime.strptime(dob_input, \"%Y-%m-%d\")\n",
        "current_date = datetime.now()\n",
        "\n",
        "# Calculate the age in seconds\n",
        "age_seconds = (current_date - dob).total_seconds()\n",
        "# Convert to Months\n",
        "months = age_seconds / (30.44 * 24 * 60 * 60)\n",
        "\n",
        "# Convert to Weeks\n",
        "weeks = age_seconds / (7 * 24 * 60 * 60)\n",
        "\n",
        "# Convert to Days\n",
        "days = age_seconds / (24 * 60 * 60)\n",
        "\n",
        "# Convert to Hours\n",
        "hours = age_seconds / (60 * 60)\n",
        "\n",
        "# Convert to Minutes\n",
        "minutes = age_seconds / 60\n",
        "\n",
        "# Remainder is the remaining seconds\n",
        "seconds = age_seconds % 60\n",
        "from datetime import datetime\n",
        "\n",
        "def main():\n",
        "    dob_input = input(\"Enter the date of birth (yyyy-mm-dd): \")\n",
        "    dob = datetime.strptime(dob_input, \"%Y-%m-%d\")\n",
        "    current_date = datetime.now()\n",
        "    age_seconds = (current_date - dob).total_seconds()\n",
        "\n",
        "    print(f\"Duration of life in Months: {age_seconds / (30.44 * 24 * 60 * 60):.2f}\")\n",
        "    print(f\"Duration of life in Weeks: {age_seconds / (7 * 24 * 60 * 60):.2f}\")\n",
        "    print(f\"Duration of life in Days: {age_seconds / (24 * 60 * 60):.2f}\")\n",
        "    print(f\"Duration of life in Hours: {age_seconds / (60 * 60):.2f}\")\n",
        "    print(f\"Duration of life in Minutes: {age_seconds / 60:.2f}\")\n",
        "    print(f\"Duration of life in Seconds: {age_seconds:.2f}\")\n",
        "\n",
        "if __name__ == \"__main__\":\n",
        "    main()\n"
      ]
    }
  ]
}